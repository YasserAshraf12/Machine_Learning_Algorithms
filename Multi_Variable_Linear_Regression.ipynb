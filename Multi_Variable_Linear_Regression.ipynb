{
 "cells": [
  {
   "cell_type": "markdown",
   "metadata": {},
   "source": [
    "### Required Packages"
   ]
  },
  {
   "cell_type": "code",
   "execution_count": 1,
   "metadata": {},
   "outputs": [],
   "source": [
    "import pandas as pd\n",
    "import matplotlib.pyplot as plt\n",
    "import numpy as np"
   ]
  },
  {
   "cell_type": "markdown",
   "metadata": {},
   "source": [
    "### Data"
   ]
  },
  {
   "cell_type": "code",
   "execution_count": 2,
   "metadata": {},
   "outputs": [
    {
     "data": {
      "text/html": [
       "<div>\n",
       "<style scoped>\n",
       "    .dataframe tbody tr th:only-of-type {\n",
       "        vertical-align: middle;\n",
       "    }\n",
       "\n",
       "    .dataframe tbody tr th {\n",
       "        vertical-align: top;\n",
       "    }\n",
       "\n",
       "    .dataframe thead th {\n",
       "        text-align: right;\n",
       "    }\n",
       "</style>\n",
       "<table border=\"1\" class=\"dataframe\">\n",
       "  <thead>\n",
       "    <tr style=\"text-align: right;\">\n",
       "      <th></th>\n",
       "      <th>0</th>\n",
       "      <th>1</th>\n",
       "      <th>2</th>\n",
       "      <th>3</th>\n",
       "    </tr>\n",
       "  </thead>\n",
       "  <tbody>\n",
       "    <tr>\n",
       "      <th>0</th>\n",
       "      <td>73</td>\n",
       "      <td>80</td>\n",
       "      <td>75</td>\n",
       "      <td>152</td>\n",
       "    </tr>\n",
       "    <tr>\n",
       "      <th>1</th>\n",
       "      <td>93</td>\n",
       "      <td>88</td>\n",
       "      <td>93</td>\n",
       "      <td>185</td>\n",
       "    </tr>\n",
       "  </tbody>\n",
       "</table>\n",
       "</div>"
      ],
      "text/plain": [
       "    0   1   2    3\n",
       "0  73  80  75  152\n",
       "1  93  88  93  185"
      ]
     },
     "execution_count": 2,
     "metadata": {},
     "output_type": "execute_result"
    }
   ],
   "source": [
    "df = pd.read_csv('Datasets/MultipleLR.csv', header=None)\n",
    "df.head(2)"
   ]
  },
  {
   "cell_type": "code",
   "execution_count": 3,
   "metadata": {},
   "outputs": [],
   "source": [
    "df.columns = ['X1', 'X2', 'X3', 'Y']"
   ]
  },
  {
   "cell_type": "code",
   "execution_count": 4,
   "metadata": {},
   "outputs": [
    {
     "data": {
      "text/html": [
       "<div>\n",
       "<style scoped>\n",
       "    .dataframe tbody tr th:only-of-type {\n",
       "        vertical-align: middle;\n",
       "    }\n",
       "\n",
       "    .dataframe tbody tr th {\n",
       "        vertical-align: top;\n",
       "    }\n",
       "\n",
       "    .dataframe thead th {\n",
       "        text-align: right;\n",
       "    }\n",
       "</style>\n",
       "<table border=\"1\" class=\"dataframe\">\n",
       "  <thead>\n",
       "    <tr style=\"text-align: right;\">\n",
       "      <th></th>\n",
       "      <th>X1</th>\n",
       "      <th>X2</th>\n",
       "      <th>X3</th>\n",
       "      <th>Y</th>\n",
       "    </tr>\n",
       "  </thead>\n",
       "  <tbody>\n",
       "    <tr>\n",
       "      <th>0</th>\n",
       "      <td>73</td>\n",
       "      <td>80</td>\n",
       "      <td>75</td>\n",
       "      <td>152</td>\n",
       "    </tr>\n",
       "    <tr>\n",
       "      <th>1</th>\n",
       "      <td>93</td>\n",
       "      <td>88</td>\n",
       "      <td>93</td>\n",
       "      <td>185</td>\n",
       "    </tr>\n",
       "  </tbody>\n",
       "</table>\n",
       "</div>"
      ],
      "text/plain": [
       "   X1  X2  X3    Y\n",
       "0  73  80  75  152\n",
       "1  93  88  93  185"
      ]
     },
     "execution_count": 4,
     "metadata": {},
     "output_type": "execute_result"
    }
   ],
   "source": [
    "df.head(2)"
   ]
  },
  {
   "cell_type": "code",
   "execution_count": 5,
   "metadata": {},
   "outputs": [
    {
     "name": "stdout",
     "output_type": "stream",
     "text": [
      "<class 'pandas.core.frame.DataFrame'>\n",
      "RangeIndex: 25 entries, 0 to 24\n",
      "Data columns (total 4 columns):\n",
      " #   Column  Non-Null Count  Dtype\n",
      "---  ------  --------------  -----\n",
      " 0   X1      25 non-null     int64\n",
      " 1   X2      25 non-null     int64\n",
      " 2   X3      25 non-null     int64\n",
      " 3   Y       25 non-null     int64\n",
      "dtypes: int64(4)\n",
      "memory usage: 928.0 bytes\n"
     ]
    }
   ],
   "source": [
    "df.info()"
   ]
  },
  {
   "cell_type": "code",
   "execution_count": 6,
   "metadata": {},
   "outputs": [
    {
     "data": {
      "text/html": [
       "<div>\n",
       "<style scoped>\n",
       "    .dataframe tbody tr th:only-of-type {\n",
       "        vertical-align: middle;\n",
       "    }\n",
       "\n",
       "    .dataframe tbody tr th {\n",
       "        vertical-align: top;\n",
       "    }\n",
       "\n",
       "    .dataframe thead th {\n",
       "        text-align: right;\n",
       "    }\n",
       "</style>\n",
       "<table border=\"1\" class=\"dataframe\">\n",
       "  <thead>\n",
       "    <tr style=\"text-align: right;\">\n",
       "      <th></th>\n",
       "      <th>mean</th>\n",
       "      <th>std</th>\n",
       "      <th>min</th>\n",
       "      <th>max</th>\n",
       "    </tr>\n",
       "  </thead>\n",
       "  <tbody>\n",
       "    <tr>\n",
       "      <th>X1</th>\n",
       "      <td>79.04</td>\n",
       "      <td>12.279658</td>\n",
       "      <td>47.0</td>\n",
       "      <td>96.0</td>\n",
       "    </tr>\n",
       "    <tr>\n",
       "      <th>X2</th>\n",
       "      <td>79.48</td>\n",
       "      <td>12.503733</td>\n",
       "      <td>46.0</td>\n",
       "      <td>98.0</td>\n",
       "    </tr>\n",
       "    <tr>\n",
       "      <th>X3</th>\n",
       "      <td>81.48</td>\n",
       "      <td>11.765486</td>\n",
       "      <td>55.0</td>\n",
       "      <td>100.0</td>\n",
       "    </tr>\n",
       "    <tr>\n",
       "      <th>Y</th>\n",
       "      <td>162.04</td>\n",
       "      <td>24.044195</td>\n",
       "      <td>101.0</td>\n",
       "      <td>196.0</td>\n",
       "    </tr>\n",
       "  </tbody>\n",
       "</table>\n",
       "</div>"
      ],
      "text/plain": [
       "      mean        std    min    max\n",
       "X1   79.04  12.279658   47.0   96.0\n",
       "X2   79.48  12.503733   46.0   98.0\n",
       "X3   81.48  11.765486   55.0  100.0\n",
       "Y   162.04  24.044195  101.0  196.0"
      ]
     },
     "execution_count": 6,
     "metadata": {},
     "output_type": "execute_result"
    }
   ],
   "source": [
    "(df.describe().T).loc[:, ['mean', 'std', 'min', 'max']]"
   ]
  },
  {
   "cell_type": "code",
   "execution_count": 7,
   "metadata": {},
   "outputs": [],
   "source": [
    "features = df.iloc[:, 0:3]\n",
    "features = np.concatenate((features, np.ones(25).reshape(25,1)), axis=1)\n",
    "label = df.iloc[:, 3]\n",
    "label = np.array(label)"
   ]
  },
  {
   "cell_type": "code",
   "execution_count": 8,
   "metadata": {},
   "outputs": [
    {
     "data": {
      "text/plain": [
       "array([[ 73.,  80.,  75.,   1.],\n",
       "       [ 93.,  88.,  93.,   1.],\n",
       "       [ 89.,  91.,  90.,   1.],\n",
       "       [ 96.,  98., 100.,   1.],\n",
       "       [ 73.,  66.,  70.,   1.],\n",
       "       [ 53.,  46.,  55.,   1.],\n",
       "       [ 69.,  74.,  77.,   1.],\n",
       "       [ 47.,  56.,  60.,   1.],\n",
       "       [ 87.,  79.,  90.,   1.],\n",
       "       [ 79.,  70.,  88.,   1.],\n",
       "       [ 69.,  70.,  73.,   1.],\n",
       "       [ 70.,  65.,  74.,   1.],\n",
       "       [ 93.,  95.,  91.,   1.],\n",
       "       [ 79.,  80.,  73.,   1.],\n",
       "       [ 70.,  73.,  78.,   1.],\n",
       "       [ 93.,  89.,  96.,   1.],\n",
       "       [ 78.,  75.,  68.,   1.],\n",
       "       [ 81.,  90.,  93.,   1.],\n",
       "       [ 88.,  92.,  86.,   1.],\n",
       "       [ 78.,  83.,  77.,   1.],\n",
       "       [ 82.,  86.,  90.,   1.],\n",
       "       [ 86.,  82.,  89.,   1.],\n",
       "       [ 78.,  83.,  85.,   1.],\n",
       "       [ 76.,  83.,  71.,   1.],\n",
       "       [ 96.,  93.,  95.,   1.]])"
      ]
     },
     "execution_count": 8,
     "metadata": {},
     "output_type": "execute_result"
    }
   ],
   "source": [
    "features"
   ]
  },
  {
   "cell_type": "code",
   "execution_count": 9,
   "metadata": {},
   "outputs": [
    {
     "data": {
      "text/plain": [
       "array([152, 185, 180, 196, 142, 101, 149, 115, 175, 164, 141, 141, 184,\n",
       "       152, 148, 192, 147, 183, 177, 159, 177, 175, 175, 149, 192],\n",
       "      dtype=int64)"
      ]
     },
     "execution_count": 9,
     "metadata": {},
     "output_type": "execute_result"
    }
   ],
   "source": [
    "label"
   ]
  },
  {
   "cell_type": "markdown",
   "metadata": {},
   "source": [
    "### Linear Regression"
   ]
  },
  {
   "cell_type": "code",
   "execution_count": 10,
   "metadata": {},
   "outputs": [],
   "source": [
    "def cost_fn(y, Y_Pred, size_):\n",
    "    error = Y_Pred - y.reshape(-1, 1)\n",
    "    return error, np.sum(error**2) / ((size_))"
   ]
  },
  {
   "cell_type": "code",
   "execution_count": 13,
   "metadata": {},
   "outputs": [],
   "source": [
    "def LR(X,y, alpha=1e-4, threshold=1e-2, n_iter=10000):\n",
    "    \n",
    "    thetas = np.ones(X.shape[1], dtype='float64').reshape(-1,1)\n",
    "    \n",
    "    costs = []\n",
    "    thetas_list = []\n",
    "    \n",
    "    thetas_list.append(thetas)\n",
    "    \n",
    "    size_data = len(y)\n",
    "    \n",
    "    for i in range(n_iter):\n",
    "        \n",
    "        y_pred = X.dot(thetas)\n",
    "        \n",
    "        err, cost = cost_fn(y, y_pred, size_data)\n",
    "        costs.append(cost)\n",
    "        \n",
    "        thetas_grad = (alpha / size_data) * (X.T @ (err))\n",
    "        thetas = thetas - thetas_grad \n",
    "        \n",
    "        thetas_list.append(thetas)\n",
    "        \n",
    "        if (i > 0) and np.all(np.abs(costs[i] - costs[i - 1]) < threshold):\n",
    "            print(\"Takes {} iterations\".format((i+1)))\n",
    "            break\n",
    "    \n",
    "    return costs, thetas_list, thetas"
   ]
  },
  {
   "cell_type": "code",
   "execution_count": 14,
   "metadata": {},
   "outputs": [
    {
     "name": "stdout",
     "output_type": "stream",
     "text": [
      "Takes 212 iterations\n"
     ]
    }
   ],
   "source": [
    "costs, thetas_list, thetas = LR(features, label)"
   ]
  },
  {
   "cell_type": "code",
   "execution_count": 15,
   "metadata": {},
   "outputs": [
    {
     "data": {
      "text/plain": [
       "array([[0.59812814],\n",
       "       [0.59562777],\n",
       "       [0.81613796],\n",
       "       [0.99497691]])"
      ]
     },
     "execution_count": 15,
     "metadata": {},
     "output_type": "execute_result"
    }
   ],
   "source": [
    "thetas"
   ]
  },
  {
   "cell_type": "code",
   "execution_count": 17,
   "metadata": {},
   "outputs": [
    {
     "data": {
      "image/png": "[encoded data removed]",
      "text/plain": [
       "<Figure size 432x288 with 1 Axes>"
      ]
     },
     "metadata": {
      "needs_background": "light"
     },
     "output_type": "display_data"
    }
   ],
   "source": [
    "plt.plot(np.arange(212), costs)\n",
    "plt.show()"
   ]
  },
  {
   "cell_type": "code",
   "execution_count": 18,
   "metadata": {},
   "outputs": [
    {
     "name": "stdout",
     "output_type": "stream",
     "text": [
      "Accuracy: 98.38823026842124 %\n"
     ]
    }
   ],
   "source": [
    "from sklearn.metrics import r2_score\n",
    "\n",
    "y_pred = features.dot(thetas)\n",
    "accuracy = r2_score(label, y_pred) * 100\n",
    "\n",
    "print(\"Accuracy:\" , accuracy, \"%\")"
   ]
  }
 ],
 "metadata": {
  "interpreter": {
   "hash": "8aec32d155930cf0381c88650aabd05d0c63319be8b0b9ae7caf1e75ecc5e461"
  },
  "kernelspec": {
   "display_name": "Python 3.9.6 64-bit",
   "language": "python",
   "name": "python3"
  },
  "language_info": {
   "codemirror_mode": {
    "name": "ipython",
    "version": 3
   },
   "file_extension": ".py",
   "mimetype": "text/x-python",
   "name": "python",
   "nbconvert_exporter": "python",
   "pygments_lexer": "ipython3",
   "version": "3.9.6"
  },
  "orig_nbformat": 4
 },
 "nbformat": 4,
 "nbformat_minor": 2
}
