{
 "cells": [
  {
   "cell_type": "markdown",
   "metadata": {},
   "source": [
    "### Required Packages"
   ]
  },
  {
   "cell_type": "code",
   "execution_count": 1,
   "metadata": {},
   "outputs": [],
   "source": [
    "import pandas as pd\n",
    "import matplotlib.pyplot as plt\n",
    "import numpy as np"
   ]
  },
  {
   "cell_type": "markdown",
   "metadata": {},
   "source": [
    "#### Data"
   ]
  },
  {
   "cell_type": "code",
   "execution_count": 2,
   "metadata": {},
   "outputs": [],
   "source": [
    "# feature / label\n",
    "feature = np.array([0, 1, 2, 3, 4, 5, 6, 7, 8, 9])\n",
    "label = np.array([1, 3, 2, 5, 7, 8, 8, 9, 10, 12])"
   ]
  },
  {
   "cell_type": "code",
   "execution_count": 3,
   "metadata": {},
   "outputs": [
    {
     "data": {
      "image/png": "[encoded data removed]",
      "text/plain": [
       "<Figure size 432x288 with 1 Axes>"
      ]
     },
     "metadata": {
      "needs_background": "light"
     },
     "output_type": "display_data"
    }
   ],
   "source": [
    "plt.scatter(feature, label)\n",
    "plt.title(\"Feature vs Label\")\n",
    "plt.xlabel(\"X\")\n",
    "plt.ylabel(\"Y\")\n",
    "plt.show()"
   ]
  },
  {
   "cell_type": "markdown",
   "metadata": {},
   "source": [
    "### Linear Regression"
   ]
  },
  {
   "cell_type": "code",
   "execution_count": 4,
   "metadata": {},
   "outputs": [],
   "source": [
    "def cost_fn(Y, Y_Pred, size_):\n",
    "    error = Y_Pred - Y\n",
    "    return error, np.sum(error**2) / (2 * (size_))"
   ]
  },
  {
   "cell_type": "code",
   "execution_count": 33,
   "metadata": {},
   "outputs": [],
   "source": [
    "def LR(X, Y, alpha=1e-2, n_iter=10000, threshold=1e-5):\n",
    "\n",
    "    b, w = 0.0, 0.0\n",
    "    \n",
    "    b_s = []\n",
    "    costs = []\n",
    "    weights = []\n",
    "    \n",
    "    b_s.append(b)\n",
    "    weights.append(w)\n",
    "    costs.append(0.0)\n",
    "    \n",
    "    size_data = len(X)\n",
    "    \n",
    "    for i in range(n_iter):\n",
    "        \n",
    "        Y_Pred = b + w*X\n",
    "        error, cost = cost_fn(Y, Y_Pred, size_data)\n",
    "        \n",
    "        b_grad = (1 / size_data) * np.sum(error)\n",
    "        w_grad = (1 / size_data) * np.sum(error @ X)\n",
    "        \n",
    "        b = b - alpha * b_grad\n",
    "        w = w - alpha * w_grad\n",
    "        \n",
    "        b_s.append(b)\n",
    "        weights.append(w)\n",
    "        costs.append(cost)\n",
    "        \n",
    "        if (i > 0) and (np.abs(costs[i - 1] - costs[i]) < threshold):\n",
    "            print(\"Takes {} iterations\".format((i+1)))\n",
    "            break\n",
    "        \n",
    "    return b, w, b_s, weights, costs"
   ]
  },
  {
   "cell_type": "code",
   "execution_count": 34,
   "metadata": {},
   "outputs": [
    {
     "name": "stdout",
     "output_type": "stream",
     "text": [
      "Takes 790 iterations\n"
     ]
    }
   ],
   "source": [
    "b, w, b_s, weights, costs = LR(feature, label)"
   ]
  },
  {
   "cell_type": "code",
   "execution_count": 35,
   "metadata": {},
   "outputs": [
    {
     "name": "stdout",
     "output_type": "stream",
     "text": [
      "1.1266978389304878 1.1871858934065398\n"
     ]
    }
   ],
   "source": [
    "print(b, w)"
   ]
  },
  {
   "cell_type": "markdown",
   "metadata": {},
   "source": [
    "<table style='margin: 0 auto; text-align: center;'>\n",
    "    <tr>\n",
    "        <th></th>\n",
    "        <th>Theta_0</th>\n",
    "        <th>Theta_1</th>\n",
    "        <th>Alpha(Learning Rate)</th>\n",
    "        <th>Threshold</th>\n",
    "        <th>N_iterations</th>\n",
    "    </tr>\n",
    "    <tr>\n",
    "        <td>1</td>\n",
    "        <td>0.25495348944295776</td>\n",
    "        <td>1.3132095648100912</td>\n",
    "        <td>1e-3</td>\n",
    "        <td>1e-3</td>\n",
    "        <td>157</td>\n",
    "    </tr>\n",
    "    <tr>\n",
    "        <td>2</td>\n",
    "        <td>0.26559612800291815</td>\n",
    "        <td>1.3197673891251176</td>\n",
    "        <td>1e-3</td>\n",
    "        <td>1e-4</td>\n",
    "        <td>191</td>\n",
    "    </tr>\n",
    "    <tr>\n",
    "        <td>3</td>\n",
    "        <td>0.2658266887753745</td>\n",
    "        <td>1.322548660223702</td>\n",
    "        <td>1e-2</td>\n",
    "        <td>1e-4</td>\n",
    "        <td>19</td>\n",
    "    </tr>\n",
    "    <tr>\n",
    "        <td>4</td>\n",
    "        <td>1.1266978389304878</td>\n",
    "        <td>1.1871858934065398</td>\n",
    "        <td>1e-2</td>\n",
    "        <td>1e-5</td>\n",
    "        <td>790</td>\n",
    "    </tr>\n",
    "</table>"
   ]
  },
  {
   "cell_type": "code",
   "execution_count": 36,
   "metadata": {},
   "outputs": [
    {
     "data": {
      "image/png": "[encoded data removed]",
      "text/plain": [
       "<Figure size 432x288 with 1 Axes>"
      ]
     },
     "metadata": {
      "needs_background": "light"
     },
     "output_type": "display_data"
    }
   ],
   "source": [
    "plt.scatter(feature, label, c='r')\n",
    "plt.plot(feature, (b+(w*feature)), c='b')\n",
    "plt.title(\"Feature vs Label\")\n",
    "plt.xlabel(\"X\")\n",
    "plt.ylabel(\"Y\")\n",
    "plt.show()"
   ]
  },
  {
   "cell_type": "code",
   "execution_count": 37,
   "metadata": {},
   "outputs": [
    {
     "data": {
      "image/png": "[encoded data removed]",
      "text/plain": [
       "<Figure size 432x288 with 1 Axes>"
      ]
     },
     "metadata": {
      "needs_background": "light"
     },
     "output_type": "display_data"
    }
   ],
   "source": [
    "plt.plot(np.arange(len(costs)), costs)\n",
    "plt.xlabel(\"Iteration\")\n",
    "plt.ylabel(\"Cost\")\n",
    "plt.title(\"Cost across Iteration\")\n",
    "plt.show()"
   ]
  },
  {
   "cell_type": "code",
   "execution_count": 38,
   "metadata": {},
   "outputs": [
    {
     "data": {
      "image/png": "[encoded data removed]",
      "text/plain": [
       "<Figure size 432x288 with 1 Axes>"
      ]
     },
     "metadata": {
      "needs_background": "light"
     },
     "output_type": "display_data"
    }
   ],
   "source": [
    "plt.plot(b_s, costs)\n",
    "plt.xlabel(\"Theta_0 (Bias)\")\n",
    "plt.ylabel(\"Cost\")\n",
    "plt.title(\"Cost V.s Bias\")\n",
    "plt.show()"
   ]
  },
  {
   "cell_type": "code",
   "execution_count": 39,
   "metadata": {},
   "outputs": [
    {
     "data": {
      "image/png": "[encoded data removed]",
      "text/plain": [
       "<Figure size 432x288 with 1 Axes>"
      ]
     },
     "metadata": {
      "needs_background": "light"
     },
     "output_type": "display_data"
    }
   ],
   "source": [
    "plt.plot(weights, costs)\n",
    "plt.xlabel(\"Theta_1 (Weights)\")\n",
    "plt.ylabel(\"Cost\")\n",
    "plt.title(\"Cost V.s Weights\")\n",
    "plt.show()"
   ]
  },
  {
   "cell_type": "markdown",
   "metadata": {},
   "source": [
    "### Linear Regression SKLEARN "
   ]
  },
  {
   "cell_type": "code",
   "execution_count": 31,
   "metadata": {},
   "outputs": [],
   "source": [
    "from sklearn.linear_model import LinearRegression"
   ]
  },
  {
   "cell_type": "code",
   "execution_count": 33,
   "metadata": {},
   "outputs": [],
   "source": [
    "reg = LinearRegression().fit(feature.reshape(-1,1), label)"
   ]
  },
  {
   "cell_type": "code",
   "execution_count": 34,
   "metadata": {},
   "outputs": [
    {
     "data": {
      "text/plain": [
       "0.952538038613988"
      ]
     },
     "execution_count": 34,
     "metadata": {},
     "output_type": "execute_result"
    }
   ],
   "source": [
    "reg.score(feature.reshape(-1,1), label)"
   ]
  },
  {
   "cell_type": "code",
   "execution_count": 40,
   "metadata": {},
   "outputs": [
    {
     "name": "stdout",
     "output_type": "stream",
     "text": [
      "Theta_0 =  1.2363636363636363\n"
     ]
    }
   ],
   "source": [
    "print(\"Theta_0 = \", reg.intercept_)"
   ]
  },
  {
   "cell_type": "code",
   "execution_count": 39,
   "metadata": {},
   "outputs": [
    {
     "name": "stdout",
     "output_type": "stream",
     "text": [
      "Theta_1 =  1.1696969696969697\n"
     ]
    }
   ],
   "source": [
    "print(\"Theta_1 = \", reg.coef_[0])"
   ]
  },
  {
   "cell_type": "code",
   "execution_count": 72,
   "metadata": {},
   "outputs": [
    {
     "data": {
      "image/png": "[encoded data removed]",
      "text/plain": [
       "<Figure size 432x288 with 1 Axes>"
      ]
     },
     "metadata": {
      "needs_background": "light"
     },
     "output_type": "display_data"
    }
   ],
   "source": [
    "plt.scatter(feature, label, c='r')\n",
    "plt.plot(feature, (reg.intercept_+(reg.coef_[0]*feature)), c='b')\n",
    "plt.title(\"Feature vs Label\")\n",
    "plt.xlabel(\"X\")\n",
    "plt.ylabel(\"Y\")\n",
    "plt.show()"
   ]
  }
 ],
 "metadata": {
  "interpreter": {
   "hash": "8aec32d155930cf0381c88650aabd05d0c63319be8b0b9ae7caf1e75ecc5e461"
  },
  "kernelspec": {
   "display_name": "Python 3.9.6 64-bit",
   "language": "python",
   "name": "python3"
  },
  "language_info": {
   "codemirror_mode": {
    "name": "ipython",
    "version": 3
   },
   "file_extension": ".py",
   "mimetype": "text/x-python",
   "name": "python",
   "nbconvert_exporter": "python",
   "pygments_lexer": "ipython3",
   "version": "3.9.6"
  },
  "orig_nbformat": 4
 },
 "nbformat": 4,
 "nbformat_minor": 2
}
